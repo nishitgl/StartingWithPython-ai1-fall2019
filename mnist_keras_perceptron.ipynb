{
  "nbformat": 4,
  "nbformat_minor": 0,
  "metadata": {
    "colab": {
      "name": "mnist-keras-perceptron.ipynb",
      "provenance": [],
      "collapsed_sections": [],
      "include_colab_link": true
    },
    "kernelspec": {
      "name": "python3",
      "display_name": "Python 3"
    },
    "accelerator": "GPU"
  },
  "cells": [
    {
      "cell_type": "markdown",
      "metadata": {
        "id": "view-in-github",
        "colab_type": "text"
      },
      "source": [
        "<a href=\"https://colab.research.google.com/github/nishitgl/StartingWithPython-ai1-fall2019/blob/master/mnist_keras_perceptron.ipynb\" target=\"_parent\"><img src=\"https://colab.research.google.com/assets/colab-badge.svg\" alt=\"Open In Colab\"/></a>"
      ]
    },
    {
      "cell_type": "code",
      "metadata": {
        "id": "0rrbVKm5n6E3",
        "colab_type": "code",
        "outputId": "afc7f8d6-cbec-4796-fd88-4c3573f6cceb",
        "colab": {
          "base_uri": "https://localhost:8080/",
          "height": 35
        }
      },
      "source": [
        "# taken from lukas/ml-class\n",
        "import numpy as np\n",
        "from keras.datasets import mnist\n",
        "from keras.models import Sequential\n",
        "from keras.layers import Dense, Flatten, Dropout\n",
        "from keras.utils import np_utils\n",
        "from keras.callbacks import Callback\n",
        "import json\n",
        "\n",
        "# from wandb.keras import WandbCallback\n",
        "# import wandb\n",
        "\n",
        "# run = wandb.init()\n",
        "# config = run.config\n",
        "\n",
        "\n",
        "\n",
        "\n",
        "\n"
      ],
      "execution_count": 5,
      "outputs": [
        {
          "output_type": "stream",
          "text": [
            "Using TensorFlow backend.\n"
          ],
          "name": "stderr"
        }
      ]
    },
    {
      "cell_type": "code",
      "metadata": {
        "id": "_X1EVJWOq0PG",
        "colab_type": "code",
        "colab": {
          "base_uri": "https://localhost:8080/",
          "height": 35
        },
        "outputId": "afb6fc35-82ea-4eab-f614-840d61299283"
      },
      "source": [
        "1+1"
      ],
      "execution_count": 2,
      "outputs": [
        {
          "output_type": "execute_result",
          "data": {
            "text/plain": [
              "2"
            ]
          },
          "metadata": {
            "tags": []
          },
          "execution_count": 2
        }
      ]
    },
    {
      "cell_type": "markdown",
      "metadata": {
        "id": "dm0KB0OGq-dE",
        "colab_type": "text"
      },
      "source": [
        "###Hello world \n",
        "\n",
        "1. One \n",
        "2. Two\n",
        "\n",
        "cabocbuoacbuo sHAHIBUCOADIN CDA \n",
        "JKACBJALCFAJLBCAFKLCB \n",
        "\n",
        "Hello $ \\alpha $ is a greek letter. \n",
        "\n",
        "$$ \\alpha + \\beta = \\gamma $$\n",
        "\n",
        "--- \n",
        "\n",
        "**alpha**"
      ]
    },
    {
      "cell_type": "code",
      "metadata": {
        "id": "vN5UIf2Lkspu",
        "colab_type": "code",
        "colab": {
          "base_uri": "https://localhost:8080/",
          "height": 35
        },
        "outputId": "ffdd0963-fc30-4494-99c4-a45e9dd31b56"
      },
      "source": [
        "a=(1,2)\n",
        "type(a)"
      ],
      "execution_count": 1,
      "outputs": [
        {
          "output_type": "execute_result",
          "data": {
            "text/plain": [
              "tuple"
            ]
          },
          "metadata": {
            "tags": []
          },
          "execution_count": 1
        }
      ]
    },
    {
      "cell_type": "code",
      "metadata": {
        "id": "qoD0pr3Qkz_H",
        "colab_type": "code",
        "colab": {
          "base_uri": "https://localhost:8080/",
          "height": 35
        },
        "outputId": "1bbb8eda-ac2d-4ce5-ee50-df412a8f9d9a"
      },
      "source": [
        "a"
      ],
      "execution_count": 2,
      "outputs": [
        {
          "output_type": "execute_result",
          "data": {
            "text/plain": [
              "(1, 2)"
            ]
          },
          "metadata": {
            "tags": []
          },
          "execution_count": 2
        }
      ]
    },
    {
      "cell_type": "code",
      "metadata": {
        "id": "Swe2iLHfmM9Q",
        "colab_type": "code",
        "colab": {
          "base_uri": "https://localhost:8080/",
          "height": 35
        },
        "outputId": "f7c14875-f47a-4ee1-a091-80c5c3349c3e"
      },
      "source": [
        "class Config:pass\n",
        "\n",
        "config = Config()\n",
        "config.optimizer = \"adam\"\n",
        "config.epochs = 40\n",
        "config.hidden_nodes = 50\n",
        "\n",
        "# load data\n",
        "(X_train, y_train), (X_test, y_test) = mnist.load_data()\n",
        "print(X_train.shape, y_train.shape)\n",
        "img_width = X_train.shape[1]\n",
        "img_height = X_train.shape[2]\n",
        "#X_train = X_train.astype('float32')\n",
        "#X_train /= 255.\n",
        "#X_test = X_test.astype('float32')\n",
        "#X_test /= 255.\n",
        "\n",
        "# Normalize, change learning rate, play with layer size, batchsize\n",
        "\n",
        "# one hot encode outputs\n",
        "y_train = np_utils.to_categorical(y_train)\n",
        "y_test = np_utils.to_categorical(y_test)\n",
        "labels = range(10)\n",
        "\n",
        "num_classes = y_train.shape[1]"
      ],
      "execution_count": 10,
      "outputs": [
        {
          "output_type": "stream",
          "text": [
            "(60000, 28, 28) (60000,)\n"
          ],
          "name": "stdout"
        }
      ]
    },
    {
      "cell_type": "code",
      "metadata": {
        "id": "Koc-KCOTm2wU",
        "colab_type": "code",
        "colab": {
          "base_uri": "https://localhost:8080/",
          "height": 35
        },
        "outputId": "816daed4-556b-404e-ea13-ae6ec4bf89ab"
      },
      "source": [
        "y_train[0]"
      ],
      "execution_count": 7,
      "outputs": [
        {
          "output_type": "execute_result",
          "data": {
            "text/plain": [
              "array([0., 0., 0., 0., 0., 1., 0., 0., 0., 0.], dtype=float32)"
            ]
          },
          "metadata": {
            "tags": []
          },
          "execution_count": 7
        }
      ]
    },
    {
      "cell_type": "code",
      "metadata": {
        "id": "IPyOdvAImQHm",
        "colab_type": "code",
        "colab": {
          "base_uri": "https://localhost:8080/",
          "height": 1000
        },
        "outputId": "7af87103-5528-41db-a985-c6be8132f15e"
      },
      "source": [
        " X_train[0]"
      ],
      "execution_count": 9,
      "outputs": [
        {
          "output_type": "execute_result",
          "data": {
            "text/plain": [
              "array([[  0,   0,   0,   0,   0,   0,   0,   0,   0,   0,   0,   0,   0,\n",
              "          0,   0,   0,   0,   0,   0,   0,   0,   0,   0,   0,   0,   0,\n",
              "          0,   0],\n",
              "       [  0,   0,   0,   0,   0,   0,   0,   0,   0,   0,   0,   0,   0,\n",
              "          0,   0,   0,   0,   0,   0,   0,   0,   0,   0,   0,   0,   0,\n",
              "          0,   0],\n",
              "       [  0,   0,   0,   0,   0,   0,   0,   0,   0,   0,   0,   0,   0,\n",
              "          0,   0,   0,   0,   0,   0,   0,   0,   0,   0,   0,   0,   0,\n",
              "          0,   0],\n",
              "       [  0,   0,   0,   0,   0,   0,   0,   0,   0,   0,   0,   0,   0,\n",
              "          0,   0,   0,   0,   0,   0,   0,   0,   0,   0,   0,   0,   0,\n",
              "          0,   0],\n",
              "       [  0,   0,   0,   0,   0,   0,   0,   0,   0,   0,   0,   0,   0,\n",
              "          0,   0,   0,   0,   0,   0,   0,   0,   0,   0,   0,   0,   0,\n",
              "          0,   0],\n",
              "       [  0,   0,   0,   0,   0,   0,   0,   0,   0,   0,   0,   0,   3,\n",
              "         18,  18,  18, 126, 136, 175,  26, 166, 255, 247, 127,   0,   0,\n",
              "          0,   0],\n",
              "       [  0,   0,   0,   0,   0,   0,   0,   0,  30,  36,  94, 154, 170,\n",
              "        253, 253, 253, 253, 253, 225, 172, 253, 242, 195,  64,   0,   0,\n",
              "          0,   0],\n",
              "       [  0,   0,   0,   0,   0,   0,   0,  49, 238, 253, 253, 253, 253,\n",
              "        253, 253, 253, 253, 251,  93,  82,  82,  56,  39,   0,   0,   0,\n",
              "          0,   0],\n",
              "       [  0,   0,   0,   0,   0,   0,   0,  18, 219, 253, 253, 253, 253,\n",
              "        253, 198, 182, 247, 241,   0,   0,   0,   0,   0,   0,   0,   0,\n",
              "          0,   0],\n",
              "       [  0,   0,   0,   0,   0,   0,   0,   0,  80, 156, 107, 253, 253,\n",
              "        205,  11,   0,  43, 154,   0,   0,   0,   0,   0,   0,   0,   0,\n",
              "          0,   0],\n",
              "       [  0,   0,   0,   0,   0,   0,   0,   0,   0,  14,   1, 154, 253,\n",
              "         90,   0,   0,   0,   0,   0,   0,   0,   0,   0,   0,   0,   0,\n",
              "          0,   0],\n",
              "       [  0,   0,   0,   0,   0,   0,   0,   0,   0,   0,   0, 139, 253,\n",
              "        190,   2,   0,   0,   0,   0,   0,   0,   0,   0,   0,   0,   0,\n",
              "          0,   0],\n",
              "       [  0,   0,   0,   0,   0,   0,   0,   0,   0,   0,   0,  11, 190,\n",
              "        253,  70,   0,   0,   0,   0,   0,   0,   0,   0,   0,   0,   0,\n",
              "          0,   0],\n",
              "       [  0,   0,   0,   0,   0,   0,   0,   0,   0,   0,   0,   0,  35,\n",
              "        241, 225, 160, 108,   1,   0,   0,   0,   0,   0,   0,   0,   0,\n",
              "          0,   0],\n",
              "       [  0,   0,   0,   0,   0,   0,   0,   0,   0,   0,   0,   0,   0,\n",
              "         81, 240, 253, 253, 119,  25,   0,   0,   0,   0,   0,   0,   0,\n",
              "          0,   0],\n",
              "       [  0,   0,   0,   0,   0,   0,   0,   0,   0,   0,   0,   0,   0,\n",
              "          0,  45, 186, 253, 253, 150,  27,   0,   0,   0,   0,   0,   0,\n",
              "          0,   0],\n",
              "       [  0,   0,   0,   0,   0,   0,   0,   0,   0,   0,   0,   0,   0,\n",
              "          0,   0,  16,  93, 252, 253, 187,   0,   0,   0,   0,   0,   0,\n",
              "          0,   0],\n",
              "       [  0,   0,   0,   0,   0,   0,   0,   0,   0,   0,   0,   0,   0,\n",
              "          0,   0,   0,   0, 249, 253, 249,  64,   0,   0,   0,   0,   0,\n",
              "          0,   0],\n",
              "       [  0,   0,   0,   0,   0,   0,   0,   0,   0,   0,   0,   0,   0,\n",
              "          0,  46, 130, 183, 253, 253, 207,   2,   0,   0,   0,   0,   0,\n",
              "          0,   0],\n",
              "       [  0,   0,   0,   0,   0,   0,   0,   0,   0,   0,   0,   0,  39,\n",
              "        148, 229, 253, 253, 253, 250, 182,   0,   0,   0,   0,   0,   0,\n",
              "          0,   0],\n",
              "       [  0,   0,   0,   0,   0,   0,   0,   0,   0,   0,  24, 114, 221,\n",
              "        253, 253, 253, 253, 201,  78,   0,   0,   0,   0,   0,   0,   0,\n",
              "          0,   0],\n",
              "       [  0,   0,   0,   0,   0,   0,   0,   0,  23,  66, 213, 253, 253,\n",
              "        253, 253, 198,  81,   2,   0,   0,   0,   0,   0,   0,   0,   0,\n",
              "          0,   0],\n",
              "       [  0,   0,   0,   0,   0,   0,  18, 171, 219, 253, 253, 253, 253,\n",
              "        195,  80,   9,   0,   0,   0,   0,   0,   0,   0,   0,   0,   0,\n",
              "          0,   0],\n",
              "       [  0,   0,   0,   0,  55, 172, 226, 253, 253, 253, 253, 244, 133,\n",
              "         11,   0,   0,   0,   0,   0,   0,   0,   0,   0,   0,   0,   0,\n",
              "          0,   0],\n",
              "       [  0,   0,   0,   0, 136, 253, 253, 253, 212, 135, 132,  16,   0,\n",
              "          0,   0,   0,   0,   0,   0,   0,   0,   0,   0,   0,   0,   0,\n",
              "          0,   0],\n",
              "       [  0,   0,   0,   0,   0,   0,   0,   0,   0,   0,   0,   0,   0,\n",
              "          0,   0,   0,   0,   0,   0,   0,   0,   0,   0,   0,   0,   0,\n",
              "          0,   0],\n",
              "       [  0,   0,   0,   0,   0,   0,   0,   0,   0,   0,   0,   0,   0,\n",
              "          0,   0,   0,   0,   0,   0,   0,   0,   0,   0,   0,   0,   0,\n",
              "          0,   0],\n",
              "       [  0,   0,   0,   0,   0,   0,   0,   0,   0,   0,   0,   0,   0,\n",
              "          0,   0,   0,   0,   0,   0,   0,   0,   0,   0,   0,   0,   0,\n",
              "          0,   0]], dtype=uint8)"
            ]
          },
          "metadata": {
            "tags": []
          },
          "execution_count": 9
        }
      ]
    },
    {
      "cell_type": "code",
      "metadata": {
        "id": "CLjkhOMkmTMZ",
        "colab_type": "code",
        "colab": {
          "base_uri": "https://localhost:8080/",
          "height": 301
        },
        "outputId": "ad147d34-b503-47cf-85eb-3fffefc21c7d"
      },
      "source": [
        "# create model\n",
        "model = Sequential()\n",
        "model.add(Flatten(input_shape=(img_width, img_height)))\n",
        "model.add(Dense(config.hidden_nodes, activation='relu'))\n",
        "model.add(Dense(config.hidden_nodes, activation='relu'))\n",
        "model.add(Dense(num_classes, activation='softmax'))\n",
        "model.compile(loss='categorical_crossentropy', optimizer=config.optimizer,\n",
        "              metrics=['accuracy'])\n",
        "model.summary()"
      ],
      "execution_count": 11,
      "outputs": [
        {
          "output_type": "stream",
          "text": [
            "Model: \"sequential_2\"\n",
            "_________________________________________________________________\n",
            "Layer (type)                 Output Shape              Param #   \n",
            "=================================================================\n",
            "flatten_2 (Flatten)          (None, 784)               0         \n",
            "_________________________________________________________________\n",
            "dense_4 (Dense)              (None, 50)                39250     \n",
            "_________________________________________________________________\n",
            "dense_5 (Dense)              (None, 50)                2550      \n",
            "_________________________________________________________________\n",
            "dense_6 (Dense)              (None, 10)                510       \n",
            "=================================================================\n",
            "Total params: 42,310\n",
            "Trainable params: 42,310\n",
            "Non-trainable params: 0\n",
            "_________________________________________________________________\n"
          ],
          "name": "stdout"
        }
      ]
    },
    {
      "cell_type": "code",
      "metadata": {
        "id": "-SHTKmZvmTYW",
        "colab_type": "code",
        "colab": {
          "base_uri": "https://localhost:8080/",
          "height": 1000
        },
        "outputId": "3c4d025b-47b3-4f5f-8f98-b795fce403d6"
      },
      "source": [
        "# Fit the model\n",
        "history = model.fit(X_train, y_train, validation_data=(X_test, y_test),\n",
        "          epochs=config.epochs)"
      ],
      "execution_count": 12,
      "outputs": [
        {
          "output_type": "stream",
          "text": [
            "Train on 60000 samples, validate on 10000 samples\n",
            "Epoch 1/40\n",
            "60000/60000 [==============================] - 10s 166us/step - loss: 10.4359 - acc: 0.3501 - val_loss: 9.1021 - val_acc: 0.4341\n",
            "Epoch 2/40\n",
            "60000/60000 [==============================] - 10s 161us/step - loss: 8.0257 - acc: 0.5000 - val_loss: 8.0616 - val_acc: 0.4978\n",
            "Epoch 3/40\n",
            "60000/60000 [==============================] - 10s 160us/step - loss: 7.5561 - acc: 0.5302 - val_loss: 7.5509 - val_acc: 0.5301\n",
            "Epoch 4/40\n",
            "60000/60000 [==============================] - 10s 161us/step - loss: 7.4733 - acc: 0.5354 - val_loss: 7.5732 - val_acc: 0.5266\n",
            "Epoch 5/40\n",
            "60000/60000 [==============================] - 9s 158us/step - loss: 5.1384 - acc: 0.6792 - val_loss: 4.9918 - val_acc: 0.6889\n",
            "Epoch 6/40\n",
            "60000/60000 [==============================] - 10s 160us/step - loss: 4.7300 - acc: 0.7051 - val_loss: 4.7197 - val_acc: 0.7056\n",
            "Epoch 7/40\n",
            "60000/60000 [==============================] - 10s 163us/step - loss: 4.7378 - acc: 0.7051 - val_loss: 4.6519 - val_acc: 0.7103\n",
            "Epoch 8/40\n",
            "60000/60000 [==============================] - 10s 169us/step - loss: 4.6047 - acc: 0.7134 - val_loss: 4.6641 - val_acc: 0.7095\n",
            "Epoch 9/40\n",
            "60000/60000 [==============================] - 10s 161us/step - loss: 4.5415 - acc: 0.7175 - val_loss: 4.6329 - val_acc: 0.7116\n",
            "Epoch 10/40\n",
            "60000/60000 [==============================] - 10s 162us/step - loss: 4.6155 - acc: 0.7130 - val_loss: 4.5810 - val_acc: 0.7148\n",
            "Epoch 11/40\n",
            "60000/60000 [==============================] - 10s 166us/step - loss: 4.6114 - acc: 0.7131 - val_loss: 4.4424 - val_acc: 0.7241\n",
            "Epoch 12/40\n",
            "60000/60000 [==============================] - 10s 166us/step - loss: 4.5341 - acc: 0.7180 - val_loss: 4.4349 - val_acc: 0.7245\n",
            "Epoch 13/40\n",
            "60000/60000 [==============================] - 10s 169us/step - loss: 4.4282 - acc: 0.7246 - val_loss: 4.5388 - val_acc: 0.7180\n",
            "Epoch 14/40\n",
            "60000/60000 [==============================] - 10s 168us/step - loss: 4.4361 - acc: 0.7241 - val_loss: 4.5336 - val_acc: 0.7182\n",
            "Epoch 15/40\n",
            "60000/60000 [==============================] - 10s 168us/step - loss: 4.4660 - acc: 0.7224 - val_loss: 4.4588 - val_acc: 0.7232\n",
            "Epoch 16/40\n",
            "60000/60000 [==============================] - 10s 169us/step - loss: 4.4751 - acc: 0.7219 - val_loss: 4.3724 - val_acc: 0.7284\n",
            "Epoch 17/40\n",
            "60000/60000 [==============================] - 10s 172us/step - loss: 4.4277 - acc: 0.7248 - val_loss: 4.5090 - val_acc: 0.7196\n",
            "Epoch 18/40\n",
            "60000/60000 [==============================] - 10s 167us/step - loss: 4.4427 - acc: 0.7240 - val_loss: 4.3580 - val_acc: 0.7292\n",
            "Epoch 19/40\n",
            "60000/60000 [==============================] - 10s 168us/step - loss: 4.4145 - acc: 0.7258 - val_loss: 4.4034 - val_acc: 0.7265\n",
            "Epoch 20/40\n",
            "60000/60000 [==============================] - 10s 168us/step - loss: 4.4730 - acc: 0.7220 - val_loss: 4.6069 - val_acc: 0.7138\n",
            "Epoch 21/40\n",
            "60000/60000 [==============================] - 10s 170us/step - loss: 4.4728 - acc: 0.7222 - val_loss: 4.5381 - val_acc: 0.7183\n",
            "Epoch 22/40\n",
            "60000/60000 [==============================] - 10s 170us/step - loss: 4.4001 - acc: 0.7266 - val_loss: 4.7352 - val_acc: 0.7058\n",
            "Epoch 23/40\n",
            "60000/60000 [==============================] - 10s 168us/step - loss: 4.4448 - acc: 0.7239 - val_loss: 4.3222 - val_acc: 0.7315\n",
            "Epoch 24/40\n",
            "60000/60000 [==============================] - 10s 168us/step - loss: 4.3582 - acc: 0.7294 - val_loss: 4.4019 - val_acc: 0.7266\n",
            "Epoch 25/40\n",
            "60000/60000 [==============================] - 10s 170us/step - loss: 4.4723 - acc: 0.7223 - val_loss: 4.3949 - val_acc: 0.7269\n",
            "Epoch 26/40\n",
            "60000/60000 [==============================] - 10s 168us/step - loss: 4.4329 - acc: 0.7247 - val_loss: 4.3715 - val_acc: 0.7284\n",
            "Epoch 27/40\n",
            "60000/60000 [==============================] - 10s 169us/step - loss: 4.3849 - acc: 0.7277 - val_loss: 4.3781 - val_acc: 0.7282\n",
            "Epoch 28/40\n",
            "60000/60000 [==============================] - 10s 168us/step - loss: 4.5108 - acc: 0.7199 - val_loss: 4.4049 - val_acc: 0.7264\n",
            "Epoch 29/40\n",
            "60000/60000 [==============================] - 10s 167us/step - loss: 4.4021 - acc: 0.7266 - val_loss: 4.4806 - val_acc: 0.7219\n",
            "Epoch 30/40\n",
            "60000/60000 [==============================] - 10s 168us/step - loss: 4.4109 - acc: 0.7261 - val_loss: 4.7487 - val_acc: 0.7048\n",
            "Epoch 31/40\n",
            "60000/60000 [==============================] - 10s 166us/step - loss: 4.4139 - acc: 0.7260 - val_loss: 4.4385 - val_acc: 0.7244\n",
            "Epoch 32/40\n",
            "60000/60000 [==============================] - 10s 168us/step - loss: 4.4215 - acc: 0.7255 - val_loss: 4.2848 - val_acc: 0.7340\n",
            "Epoch 33/40\n",
            "60000/60000 [==============================] - 10s 163us/step - loss: 4.2501 - acc: 0.7361 - val_loss: 4.3491 - val_acc: 0.7301\n",
            "Epoch 34/40\n",
            "60000/60000 [==============================] - 10s 162us/step - loss: 4.2569 - acc: 0.7356 - val_loss: 4.3070 - val_acc: 0.7327\n",
            "Epoch 35/40\n",
            "60000/60000 [==============================] - 10s 163us/step - loss: 4.2746 - acc: 0.7347 - val_loss: 4.2834 - val_acc: 0.7341\n",
            "Epoch 36/40\n",
            "60000/60000 [==============================] - 11s 178us/step - loss: 4.3055 - acc: 0.7327 - val_loss: 4.4190 - val_acc: 0.7257\n",
            "Epoch 37/40\n",
            "60000/60000 [==============================] - 10s 165us/step - loss: 4.4003 - acc: 0.7268 - val_loss: 4.2794 - val_acc: 0.7344\n",
            "Epoch 38/40\n",
            "60000/60000 [==============================] - 10s 166us/step - loss: 4.2799 - acc: 0.7344 - val_loss: 4.3932 - val_acc: 0.7272\n",
            "Epoch 39/40\n",
            "60000/60000 [==============================] - 10s 172us/step - loss: 4.2558 - acc: 0.7359 - val_loss: 4.5784 - val_acc: 0.7158\n",
            "Epoch 40/40\n",
            "60000/60000 [==============================] - 10s 165us/step - loss: 4.6366 - acc: 0.7121 - val_loss: 4.6855 - val_acc: 0.7092\n"
          ],
          "name": "stdout"
        }
      ]
    },
    {
      "cell_type": "code",
      "metadata": {
        "id": "o94PCOItrzf3",
        "colab_type": "code",
        "colab": {
          "base_uri": "https://localhost:8080/",
          "height": 710
        },
        "outputId": "6a80e60c-1928-47fb-e5b0-d9c8cccf19bf"
      },
      "source": [
        "dir()"
      ],
      "execution_count": 7,
      "outputs": [
        {
          "output_type": "execute_result",
          "data": {
            "text/plain": [
              "['Callback',\n",
              " 'Dense',\n",
              " 'Dropout',\n",
              " 'Flatten',\n",
              " 'In',\n",
              " 'Out',\n",
              " 'Sequential',\n",
              " '_',\n",
              " '_2',\n",
              " '__',\n",
              " '___',\n",
              " '__builtin__',\n",
              " '__builtins__',\n",
              " '__doc__',\n",
              " '__loader__',\n",
              " '__name__',\n",
              " '__package__',\n",
              " '__spec__',\n",
              " '_dh',\n",
              " '_i',\n",
              " '_i1',\n",
              " '_i2',\n",
              " '_i3',\n",
              " '_i4',\n",
              " '_i5',\n",
              " '_i6',\n",
              " '_i7',\n",
              " '_ih',\n",
              " '_ii',\n",
              " '_iii',\n",
              " '_oh',\n",
              " '_sh',\n",
              " 'exit',\n",
              " 'get_ipython',\n",
              " 'json',\n",
              " 'mnist',\n",
              " 'np',\n",
              " 'np_utils',\n",
              " 'quit']"
            ]
          },
          "metadata": {
            "tags": []
          },
          "execution_count": 7
        }
      ]
    },
    {
      "cell_type": "code",
      "metadata": {
        "id": "J3_MEz-m8VjV",
        "colab_type": "code",
        "colab": {
          "base_uri": "https://localhost:8080/",
          "height": 188
        },
        "outputId": "312404d6-0706-4323-a56b-4a60e3b29eff"
      },
      "source": [
        "history.history['acc']"
      ],
      "execution_count": 1,
      "outputs": [
        {
          "output_type": "error",
          "ename": "NameError",
          "evalue": "ignored",
          "traceback": [
            "\u001b[0;31m---------------------------------------------------------------------------\u001b[0m",
            "\u001b[0;31mNameError\u001b[0m                                 Traceback (most recent call last)",
            "\u001b[0;32m<ipython-input-1-bf7714a24a30>\u001b[0m in \u001b[0;36m<module>\u001b[0;34m()\u001b[0m\n\u001b[0;32m----> 1\u001b[0;31m \u001b[0mhistory\u001b[0m\u001b[0;34m.\u001b[0m\u001b[0mhistory\u001b[0m\u001b[0;34m[\u001b[0m\u001b[0;34m'acc'\u001b[0m\u001b[0;34m]\u001b[0m\u001b[0;34m\u001b[0m\u001b[0;34m\u001b[0m\u001b[0m\n\u001b[0m",
            "\u001b[0;31mNameError\u001b[0m: name 'history' is not defined"
          ]
        }
      ]
    },
    {
      "cell_type": "code",
      "metadata": {
        "id": "Y32SvH4u8XNH",
        "colab_type": "code",
        "colab": {}
      },
      "source": [
        "epochs = history.epoch"
      ],
      "execution_count": 0,
      "outputs": []
    },
    {
      "cell_type": "code",
      "metadata": {
        "id": "np50Elef8dBL",
        "colab_type": "code",
        "colab": {
          "base_uri": "https://localhost:8080/",
          "height": 35
        },
        "outputId": "e7a32312-75b3-4732-fba6-3a08e75a252f"
      },
      "source": [
        "type(history.history)"
      ],
      "execution_count": 16,
      "outputs": [
        {
          "output_type": "execute_result",
          "data": {
            "text/plain": [
              "dict"
            ]
          },
          "metadata": {
            "tags": []
          },
          "execution_count": 16
        }
      ]
    },
    {
      "cell_type": "code",
      "metadata": {
        "id": "FhQaq2_A8tNT",
        "colab_type": "code",
        "colab": {}
      },
      "source": [
        "import matplotlib.pyplot as plt  #particular module of plotting made to look like MATLAB"
      ],
      "execution_count": 0,
      "outputs": []
    },
    {
      "cell_type": "code",
      "metadata": {
        "id": "8qilllopI8qj",
        "colab_type": "code",
        "colab": {}
      },
      "source": [
        "historg "
      ],
      "execution_count": 0,
      "outputs": []
    },
    {
      "cell_type": "code",
      "metadata": {
        "id": "iTTomihQ87Ws",
        "colab_type": "code",
        "colab": {
          "base_uri": "https://localhost:8080/",
          "height": 287
        },
        "outputId": "d6fb6c86-9831-4404-c0f5-d76299389e4c"
      },
      "source": [
        "plt.plot(history.epoch, history.history['acc'])"
      ],
      "execution_count": 24,
      "outputs": [
        {
          "output_type": "execute_result",
          "data": {
            "text/plain": [
              "[<matplotlib.lines.Line2D at 0x7f42a040da58>]"
            ]
          },
          "metadata": {
            "tags": []
          },
          "execution_count": 24
        },
        {
          "output_type": "display_data",
          "data": {
            "image/png": "[encoded data removed]",
            "text/plain": [
              "<Figure size 432x288 with 1 Axes>"
            ]
          },
          "metadata": {
            "tags": []
          }
        }
      ]
    },
    {
      "cell_type": "code",
      "metadata": {
        "id": "t_9PBb3I9uFX",
        "colab_type": "code",
        "colab": {
          "base_uri": "https://localhost:8080/",
          "height": 287
        },
        "outputId": "63e9e013-1304-43cb-f223-77fe4da4632b"
      },
      "source": [
        "plt.plot(history.epoch, history.history['acc'])\n",
        "plt.plot(history.epoch, history.history['val_acc'])"
      ],
      "execution_count": 23,
      "outputs": [
        {
          "output_type": "execute_result",
          "data": {
            "text/plain": [
              "[<matplotlib.lines.Line2D at 0x7f42a0451c18>]"
            ]
          },
          "metadata": {
            "tags": []
          },
          "execution_count": 23
        },
        {
          "output_type": "display_data",
          "data": {
            "image/png": "[encoded data removed]",
            "text/plain": [
              "<Figure size 432x288 with 1 Axes>"
            ]
          },
          "metadata": {
            "tags": []
          }
        }
      ]
    },
    {
      "cell_type": "code",
      "metadata": {
        "id": "MMeebbu89b-0",
        "colab_type": "code",
        "colab": {}
      },
      "source": [
        "a = np.arange(-100,100,0.1)\n",
        "b = np.arange(-100,100,0.1)\n",
        "c = lambda a,b: (a+b-2)**2\n"
      ],
      "execution_count": 0,
      "outputs": []
    },
    {
      "cell_type": "code",
      "metadata": {
        "id": "RT1CH2tn_kWA",
        "colab_type": "code",
        "colab": {
          "base_uri": "https://localhost:8080/",
          "height": 287
        },
        "outputId": "1e16e398-5245-4d18-ad66-adba1c64fe0b"
      },
      "source": [
        "plt.plot (a, c(a, 0))"
      ],
      "execution_count": 30,
      "outputs": [
        {
          "output_type": "execute_result",
          "data": {
            "text/plain": [
              "[<matplotlib.lines.Line2D at 0x7f42a02bcda0>]"
            ]
          },
          "metadata": {
            "tags": []
          },
          "execution_count": 30
        },
        {
          "output_type": "display_data",
          "data": {
            "image/png": "[encoded data removed]",
            "text/plain": [
              "<Figure size 432x288 with 1 Axes>"
            ]
          },
          "metadata": {
            "tags": []
          }
        }
      ]
    },
    {
      "cell_type": "code",
      "metadata": {
        "id": "clXZVtC5_vdv",
        "colab_type": "code",
        "colab": {
          "base_uri": "https://localhost:8080/",
          "height": 287
        },
        "outputId": "ba70a7f6-2805-466a-a831-a6a8bb67b7d3"
      },
      "source": [
        "plt.plot (b, c(0, b))"
      ],
      "execution_count": 31,
      "outputs": [
        {
          "output_type": "execute_result",
          "data": {
            "text/plain": [
              "[<matplotlib.lines.Line2D at 0x7f42a021f940>]"
            ]
          },
          "metadata": {
            "tags": []
          },
          "execution_count": 31
        },
        {
          "output_type": "display_data",
          "data": {
            "image/png": "[encoded data removed]",
            "text/plain": [
              "<Figure size 432x288 with 1 Axes>"
            ]
          },
          "metadata": {
            "tags": []
          }
        }
      ]
    },
    {
      "cell_type": "code",
      "metadata": {
        "id": "3sELE9i9AAWL",
        "colab_type": "code",
        "colab": {
          "base_uri": "https://localhost:8080/",
          "height": 35
        },
        "outputId": "e6dc149d-3dec-4ca4-82d7-8188eb4b8389"
      },
      "source": [
        "history"
      ],
      "execution_count": 32,
      "outputs": [
        {
          "output_type": "execute_result",
          "data": {
            "text/plain": [
              "<keras.callbacks.History at 0x7f42b12a90b8>"
            ]
          },
          "metadata": {
            "tags": []
          },
          "execution_count": 32
        }
      ]
    },
    {
      "cell_type": "code",
      "metadata": {
        "id": "yfYPjr0oAtSG",
        "colab_type": "code",
        "colab": {
          "base_uri": "https://localhost:8080/",
          "height": 52
        },
        "outputId": "60d799dc-6fed-4ba8-b186-90aa2ff39616"
      },
      "source": [
        " history"
      ],
      "execution_count": 2,
      "outputs": [
        {
          "output_type": "stream",
          "text": [
            "history.history['acc']\n",
            " history\n"
          ],
          "name": "stdout"
        }
      ]
    },
    {
      "cell_type": "code",
      "metadata": {
        "id": "Upgs7cF7JPfH",
        "colab_type": "code",
        "colab": {
          "base_uri": "https://localhost:8080/",
          "height": 188
        },
        "outputId": "0d13f357-972b-4231-f64a-93d9c80a0d34"
      },
      "source": [
        "history.history"
      ],
      "execution_count": 3,
      "outputs": [
        {
          "output_type": "error",
          "ename": "NameError",
          "evalue": "ignored",
          "traceback": [
            "\u001b[0;31m---------------------------------------------------------------------------\u001b[0m",
            "\u001b[0;31mNameError\u001b[0m                                 Traceback (most recent call last)",
            "\u001b[0;32m<ipython-input-3-6cd13d6a221b>\u001b[0m in \u001b[0;36m<module>\u001b[0;34m()\u001b[0m\n\u001b[0;32m----> 1\u001b[0;31m \u001b[0mhistory\u001b[0m\u001b[0;34m.\u001b[0m\u001b[0mhistory\u001b[0m\u001b[0;34m\u001b[0m\u001b[0;34m\u001b[0m\u001b[0m\n\u001b[0m",
            "\u001b[0;31mNameError\u001b[0m: name 'history' is not defined"
          ]
        }
      ]
    },
    {
      "cell_type": "code",
      "metadata": {
        "id": "6i_YLFN7JVdU",
        "colab_type": "code",
        "colab": {}
      },
      "source": [
        ""
      ],
      "execution_count": 0,
      "outputs": []
    }
  ]
}